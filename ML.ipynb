{
  "nbformat": 4,
  "nbformat_minor": 0,
  "metadata": {
    "colab": {
      "name": "ML.ipynb",
      "provenance": [],
      "collapsed_sections": [],
      "authorship_tag": "ABX9TyOKMaFsqSpyhxXtN2db+VGX",
      "include_colab_link": true
    },
    "kernelspec": {
      "name": "python3",
      "display_name": "Python 3"
    },
    "language_info": {
      "name": "python"
    },
    "accelerator": "GPU"
  },
  "cells": [
    {
      "cell_type": "markdown",
      "metadata": {
        "id": "view-in-github",
        "colab_type": "text"
      },
      "source": [
        "<a href=\"https://colab.research.google.com/github/Arcee-LYK/hello-world/blob/main/ML.ipynb\" target=\"_parent\"><img src=\"https://colab.research.google.com/assets/colab-badge.svg\" alt=\"Open In Colab\"/></a>"
      ]
    },
    {
      "cell_type": "code",
      "metadata": {
        "id": "bIqREm--21os",
        "colab": {
          "base_uri": "https://localhost:8080/",
          "height": 761
        },
        "outputId": "02cee378-ecae-495d-eaa4-4bc095488f9b"
      },
      "source": [
        "import numpy as np\n",
        "import matplotlib.pyplot as plt\n",
        "from sklearn.datasets import fetch_openml\n",
        "\n",
        "# download and load mnist data from https://www.openml.org/d/554\n",
        "# for this tutorial, the data have been downloaded already in './scikit_learn_data'\n",
        "X, Y = fetch_openml('mnist_784', version=1, data_home='./scikit_learn_data', return_X_y=True)\n",
        "\n",
        "# make the value of pixels from [0, 255] to [0, 1] for further process\n",
        "X = X / 255.\n",
        "\n",
        "# print the first image of the dataset\n",
        "img1 = X[0].reshape(28, 28)\n",
        "plt.imshow(img1, cmap='gray')\n",
        "plt.show()\n",
        "\n",
        "# print the images after simple transformation\n",
        "img2 = 1 - img1\n",
        "plt.imshow(img2, cmap='gray')\n",
        "plt.show()\n",
        "\n",
        "img3 = img1.transpose()\n",
        "plt.imshow(img3, cmap='gray')\n",
        "plt.show()"
      ],
      "execution_count": 1,
      "outputs": [
        {
          "output_type": "display_data",
          "data": {
            "image/png": "[encoded data removed]",
            "text/plain": [
              "<Figure size 432x288 with 1 Axes>"
            ]
          },
          "metadata": {
            "tags": [],
            "needs_background": "light"
          }
        },
        {
          "output_type": "display_data",
          "data": {
            "image/png": "[encoded data removed]",
            "text/plain": [
              "<Figure size 432x288 with 1 Axes>"
            ]
          },
          "metadata": {
            "tags": [],
            "needs_background": "light"
          }
        },
        {
          "output_type": "display_data",
          "data": {
            "image/png": "[encoded data removed]",
            "text/plain": [
              "<Figure size 432x288 with 1 Axes>"
            ]
          },
          "metadata": {
            "tags": [],
            "needs_background": "light"
          }
        }
      ]
    },
    {
      "cell_type": "code",
      "metadata": {
        "id": "lEg2RTVc4Ub_"
      },
      "source": [
        "from sklearn.model_selection import train_test_split\n",
        "X_train, X_test, Y_train, Y_test = train_test_split(X[::10], Y[::10], test_size=1000)"
      ],
      "execution_count": 2,
      "outputs": []
    },
    {
      "cell_type": "code",
      "metadata": {
        "id": "hnYfDeSL4W19",
        "colab": {
          "base_uri": "https://localhost:8080/"
        },
        "outputId": "a9a6fbc5-4fd1-48b2-ca5a-96e4b839c935"
      },
      "source": [
        "from sklearn.linear_model import LogisticRegression\n",
        "from sklearn import metrics\n",
        "from sklearn.metrics import accuracy_score,classification_report\n",
        "lr = LogisticRegression(penalty='l2',)\n",
        "lr.fit(X_train,Y_train)\n",
        "predict_test = lr.predict(X_test)\n",
        "predict_train = lr.predict(X_train)\n",
        "test_accuracy = accuracy_score(Y_test,predict_test)\n",
        "train_accuracy = accuracy_score(Y_train,predict_train)\n",
        "print('Training accuracy: %0.2f%%' % (train_accuracy*100))\n",
        "print('Testing accuracy: %0.2f%%' % (test_accuracy*100))\n"
      ],
      "execution_count": 3,
      "outputs": [
        {
          "output_type": "stream",
          "text": [
            "Training accuracy: 97.42%\n",
            "Testing accuracy: 86.10%\n"
          ],
          "name": "stdout"
        },
        {
          "output_type": "stream",
          "text": [
            "/usr/local/lib/python3.7/dist-packages/sklearn/linear_model/_logistic.py:940: ConvergenceWarning: lbfgs failed to converge (status=1):\n",
            "STOP: TOTAL NO. of ITERATIONS REACHED LIMIT.\n",
            "\n",
            "Increase the number of iterations (max_iter) or scale the data as shown in:\n",
            "    https://scikit-learn.org/stable/modules/preprocessing.html\n",
            "Please also refer to the documentation for alternative solver options:\n",
            "    https://scikit-learn.org/stable/modules/linear_model.html#logistic-regression\n",
            "  extra_warning_msg=_LOGISTIC_SOLVER_CONVERGENCE_MSG)\n"
          ],
          "name": "stderr"
        }
      ]
    },
    {
      "cell_type": "code",
      "metadata": {
        "id": "wAqeIkLLA440",
        "colab": {
          "base_uri": "https://localhost:8080/"
        },
        "outputId": "48cf552d-9694-4cc9-e2ae-67fca06b2ce4"
      },
      "source": [
        "from sklearn.svm import LinearSVC\n",
        "svc = LinearSVC(penalty='l2')\n",
        "svc.fit(X_train,Y_train)\n",
        "predict_test = svc.predict(X_test)\n",
        "predict_train = svc.predict(X_train)\n",
        "test_accuracy = accuracy_score(Y_test,predict_test)\n",
        "train_accuracy = accuracy_score(Y_train,predict_train)\n",
        "print('Training accuracy: %0.2f%%' % (train_accuracy*100))\n",
        "print('Testing accuracy: %0.2f%%' % (test_accuracy*100))"
      ],
      "execution_count": 4,
      "outputs": [
        {
          "output_type": "stream",
          "text": [
            "Training accuracy: 97.85%\n",
            "Testing accuracy: 85.80%\n"
          ],
          "name": "stdout"
        },
        {
          "output_type": "stream",
          "text": [
            "/usr/local/lib/python3.7/dist-packages/sklearn/svm/_base.py:947: ConvergenceWarning: Liblinear failed to converge, increase the number of iterations.\n",
            "  \"the number of iterations.\", ConvergenceWarning)\n"
          ],
          "name": "stderr"
        }
      ]
    },
    {
      "cell_type": "code",
      "metadata": {
        "id": "63L8OWavYnjq",
        "colab": {
          "base_uri": "https://localhost:8080/"
        },
        "outputId": "a4f324ec-b150-4027-b07a-a1638b3ce25f"
      },
      "source": [
        "from sklearn.svm import LinearSVC\n",
        "svc = LinearSVC(penalty='l2',loss='hinge',dual=True,tol=0.01,C=10.0,random_state=2)\n",
        "svc.fit(X_train,Y_train)\n",
        "predict_test = svc.predict(X_test)\n",
        "predict_train = svc.predict(X_train)\n",
        "test_accuracy = accuracy_score(Y_test,predict_test)\n",
        "train_accuracy = accuracy_score(Y_train,predict_train)\n",
        "print('Training accuracy: %0.2f%%' % (train_accuracy*100))\n",
        "print('Testing accuracy: %0.2f%%' % (test_accuracy*100))"
      ],
      "execution_count": 5,
      "outputs": [
        {
          "output_type": "stream",
          "text": [
            "Training accuracy: 97.73%\n",
            "Testing accuracy: 83.80%\n"
          ],
          "name": "stdout"
        },
        {
          "output_type": "stream",
          "text": [
            "/usr/local/lib/python3.7/dist-packages/sklearn/svm/_base.py:947: ConvergenceWarning: Liblinear failed to converge, increase the number of iterations.\n",
            "  \"the number of iterations.\", ConvergenceWarning)\n"
          ],
          "name": "stderr"
        }
      ]
    },
    {
      "cell_type": "code",
      "metadata": {
        "id": "50QgwHMnE4jF",
        "colab": {
          "base_uri": "https://localhost:8080/"
        },
        "outputId": "ac27c297-6a24-4681-bfe6-2c88efa5effa"
      },
      "source": [
        "from sklearn.naive_bayes import BernoulliNB\n",
        "bnb = LinearSVC(penalty='l2')\n",
        "bnb.fit(X_train,Y_train)\n",
        "predict_test = bnb.predict(X_test)\n",
        "predict_train = bnb.predict(X_train)\n",
        "test_accuracy = accuracy_score(Y_test,predict_test)\n",
        "train_accuracy = accuracy_score(Y_train,predict_train)\n",
        "print('Training accuracy: %0.2f%%' % (train_accuracy*100))\n",
        "print('Testing accuracy: %0.2f%%' % (test_accuracy*100))"
      ],
      "execution_count": 6,
      "outputs": [
        {
          "output_type": "stream",
          "text": [
            "Training accuracy: 97.85%\n",
            "Testing accuracy: 85.60%\n"
          ],
          "name": "stdout"
        },
        {
          "output_type": "stream",
          "text": [
            "/usr/local/lib/python3.7/dist-packages/sklearn/svm/_base.py:947: ConvergenceWarning: Liblinear failed to converge, increase the number of iterations.\n",
            "  \"the number of iterations.\", ConvergenceWarning)\n"
          ],
          "name": "stderr"
        }
      ]
    },
    {
      "cell_type": "code",
      "metadata": {
        "id": "R0HCRplSFkzM"
      },
      "source": [
        "import torch\n",
        "import torch.nn as nn\n",
        "import torch.utils.data as data\n",
        "import torchvision\n",
        "import torchvision.transforms as transforms\n",
        "from tqdm import tqdm\n",
        "import time\n",
        "\n",
        "\n",
        "BATCH_SIZE = 128\n",
        "NUM_EPOCHS = 10\n",
        "# preprocessing\n",
        "normalize = transforms.Normalize(mean=[.5], std=[.5])\n",
        "transform = transforms.Compose([transforms.ToTensor(), normalize])\n",
        "\n",
        "# download and load the data\n",
        "train_dataset = torchvision.datasets.MNIST(root='./mnist/', train=True, transform=transform, download=True)\n",
        "test_dataset = torchvision.datasets.MNIST(root='./mnist/', train=False, transform=transform, download=False)\n",
        "\n",
        "# encapsulate them into dataloader form\n",
        "train_loader = data.DataLoader(train_dataset, batch_size=BATCH_SIZE, shuffle=True, drop_last=True)\n",
        "test_loader = data.DataLoader(test_dataset, batch_size=BATCH_SIZE, shuffle=False, drop_last=True)"
      ],
      "execution_count": null,
      "outputs": []
    },
    {
      "cell_type": "code",
      "metadata": {
        "id": "0Vfkfwsg8p_c"
      },
      "source": [
        "import torch.nn.functional as F\n",
        "import torch.optim as optim\n",
        "class SimpleNet(nn.Module):\n",
        "  def __init__(self):\n",
        "    super(SimpleNet,self).__init__()\n",
        "    self.conv1 = nn.Conv2d(1,10,kernel_size=5)\n",
        "    self.conv2 = nn.Conv2d(10,20,kernel_size=5)\n",
        "    self.conv2_drop = nn.Dropout2d()\n",
        "    self.fc1 = nn.Linear(320,50)\n",
        "    self.fc2 = nn.Linear(50,10)\n",
        "  def forward(self,x):\n",
        "    x = F.relu(F.max_pool2d(self.conv1(x),2))\n",
        "    x = F.relu(F.max_pool2d(self.conv2_drop(self.conv2(x)),2))\n",
        "    x = x.view(-1,320)\n",
        "    x = F.relu(self.fc1(x))\n",
        "    x = F.dropout(x,training=self.training)\n",
        "    x = self.fc2(x)\n",
        "    return F.log_softmax(x)\n",
        "device = torch.device('cuda' if torch.cuda.is_available() else 'cpu')\n",
        "net = SimpleNet().to(device)\n",
        "criterion = nn.CrossEntropyLoss() \n",
        "optimizer = optim.SGD(net.parameters(),lr=0.01,momentum=0.5)"
      ],
      "execution_count": 8,
      "outputs": []
    },
    {
      "cell_type": "code",
      "metadata": {
        "id": "Ag_lkFxDI1Aa",
        "colab": {
          "base_uri": "https://localhost:8080/"
        },
        "outputId": "bb5cd3d0-5326-4cb8-e9db-2756e5372edc"
      },
      "source": [
        "from torch.autograd import Variable\n",
        "# train and evaluate\n",
        "train_accuracy = []\n",
        "test_accuracy = []\n",
        "for epoch in range(NUM_EPOCHS):\n",
        "  for images, labels in tqdm(train_loader):\n",
        "    # TODO:forward + backward + optimize\n",
        "    images,labels = Variable(images).cuda(),Variable(labels).cuda()\n",
        "    optimizer.zero_grad()\n",
        "    outputs = net(images)\n",
        "    loss = criterion(outputs,labels)\n",
        "    loss.backward()\n",
        "    optimizer.step()\n",
        "    # evaluate\n",
        "    # TODO:calculate the accuracy using traning and testing dataset\n",
        "    correct = 0\n",
        "    size = 0\n",
        "  #for images, labels in tqdm(train_loader):\n",
        "    images,labels = Variable(images).cuda(),Variable(labels).cuda()\n",
        "    outputs = net(images)\n",
        "    predict = outputs.data.max(1)[1]\n",
        "    size += len(predict)\n",
        "    correct += predict.eq(labels.data).sum()\n",
        "  train_accuracy.append(float(100*correct/size))\n",
        "for epoch in range(NUM_EPOCHS):\n",
        "  print(\"epoch\",epoch,\"train accuracy:%0.2f\" % (train_accuracy[epoch]))\n",
        "\n",
        "net.eval()\n",
        "correct = 0\n",
        "for data_test in test_loader:\n",
        "  images ,labels = data_test\n",
        "  images,labels = Variable(images).cuda(),Variable(labels).cuda()\n",
        "  output_test = net(images)\n",
        "  _,predict = torch.max(output_test,1)\n",
        "  correct += (predict == labels).sum()\n",
        "print(\"Test acc: {0}\".format(correct.item() / len(test_dataset)))"
      ],
      "execution_count": 12,
      "outputs": [
        {
          "output_type": "stream",
          "text": [
            "  0%|          | 0/468 [00:00<?, ?it/s]/usr/local/lib/python3.7/dist-packages/ipykernel_launcher.py:18: UserWarning: Implicit dimension choice for log_softmax has been deprecated. Change the call to include dim=X as an argument.\n",
            "100%|██████████| 468/468 [00:07<00:00, 61.25it/s]\n",
            "100%|██████████| 468/468 [00:07<00:00, 60.80it/s]\n",
            "100%|██████████| 468/468 [00:07<00:00, 61.02it/s]\n",
            "100%|██████████| 468/468 [00:07<00:00, 61.35it/s]\n",
            "100%|██████████| 468/468 [00:07<00:00, 62.58it/s]\n",
            "100%|██████████| 468/468 [00:07<00:00, 61.45it/s]\n",
            "100%|██████████| 468/468 [00:07<00:00, 61.55it/s]\n",
            "100%|██████████| 468/468 [00:07<00:00, 62.26it/s]\n",
            "100%|██████████| 468/468 [00:07<00:00, 62.30it/s]\n",
            "100%|██████████| 468/468 [00:07<00:00, 61.79it/s]\n"
          ],
          "name": "stderr"
        },
        {
          "output_type": "stream",
          "text": [
            "epoch 0 train accuracy:98.44\n",
            "epoch 1 train accuracy:100.00\n",
            "epoch 2 train accuracy:99.22\n",
            "epoch 3 train accuracy:99.22\n",
            "epoch 4 train accuracy:99.22\n",
            "epoch 5 train accuracy:100.00\n",
            "epoch 6 train accuracy:97.66\n",
            "epoch 7 train accuracy:100.00\n",
            "epoch 8 train accuracy:99.22\n",
            "epoch 9 train accuracy:100.00\n",
            "Test acc: 0.9881\n"
          ],
          "name": "stdout"
        }
      ]
    }
  ]
}